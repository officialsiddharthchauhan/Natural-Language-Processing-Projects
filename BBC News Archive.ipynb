{
  "nbformat": 4,
  "nbformat_minor": 0,
  "metadata": {
    "colab": {
      "name": "Course 4 - Week 2 - Exercise - Question.ipynb",
      "provenance": []
    },
    "kernelspec": {
      "name": "python3",
      "display_name": "Python 3"
    },
    "accelerator": "GPU"
  },
  "cells": [
    {
      "cell_type": "code",
      "metadata": {
        "id": "gnwiOnGyW5JK",
        "colab_type": "code",
        "colab": {
          "base_uri": "https://localhost:8080/",
          "height": 207
        },
        "outputId": "c11fb187-0f4e-4b5c-de99-eca2ae419949"
      },
      "source": [
        "import csv\n",
        "import tensorflow as tf\n",
        "import numpy as np\n",
        "from tensorflow.keras.preprocessing.text import Tokenizer\n",
        "from tensorflow.keras.preprocessing.sequence import pad_sequences\n",
        "\n",
        "!wget --no-check-certificate \\\n",
        "    https://storage.googleapis.com/laurencemoroney-blog.appspot.com/bbc-text.csv \\\n",
        "    -O /tmp/bbc-text.csv"
      ],
      "execution_count": 78,
      "outputs": [
        {
          "output_type": "stream",
          "text": [
            "--2020-02-02 06:30:00--  https://storage.googleapis.com/laurencemoroney-blog.appspot.com/bbc-text.csv\n",
            "Resolving storage.googleapis.com (storage.googleapis.com)... 172.217.203.128, 2607:f8b0:400c:c00::80\n",
            "Connecting to storage.googleapis.com (storage.googleapis.com)|172.217.203.128|:443... connected.\n",
            "HTTP request sent, awaiting response... 200 OK\n",
            "Length: 5057493 (4.8M) [application/octet-stream]\n",
            "Saving to: ‘/tmp/bbc-text.csv’\n",
            "\n",
            "\r/tmp/bbc-text.csv     0%[                    ]       0  --.-KB/s               \r/tmp/bbc-text.csv   100%[===================>]   4.82M  --.-KB/s    in 0.02s   \n",
            "\n",
            "2020-02-02 06:30:00 (207 MB/s) - ‘/tmp/bbc-text.csv’ saved [5057493/5057493]\n",
            "\n"
          ],
          "name": "stdout"
        }
      ]
    },
    {
      "cell_type": "code",
      "metadata": {
        "id": "EYo6A4v5ZABQ",
        "colab_type": "code",
        "colab": {}
      },
      "source": [
        "vocab_size = 1000\n",
        "embedding_dim = 16\n",
        "max_length = 120\n",
        "trunc_type = 'post'\n",
        "padding_type = 'post'\n",
        "oov_tok = '<OOV>'\n",
        "training_portion = .8"
      ],
      "execution_count": 0,
      "outputs": []
    },
    {
      "cell_type": "code",
      "metadata": {
        "id": "iU1qq3_SZBx_",
        "colab_type": "code",
        "colab": {
          "base_uri": "https://localhost:8080/",
          "height": 34
        },
        "outputId": "c31fc65b-3095-4115-9339-506ca840a5f7"
      },
      "source": [
        "sentences = []\n",
        "labels = []\n",
        "stopwords = [ \"a\", \"about\", \"above\", \"after\", \"again\", \"against\", \"all\", \"am\", \"an\", \"and\", \"any\", \"are\", \"as\", \"at\", \"be\", \"because\", \"been\", \"before\", \"being\", \"below\", \"between\", \"both\", \"but\", \"by\", \"could\", \"did\", \"do\", \"does\", \"doing\", \"down\", \"during\", \"each\", \"few\", \"for\", \"from\", \"further\", \"had\", \"has\", \"have\", \"having\", \"he\", \"he'd\", \"he'll\", \"he's\", \"her\", \"here\", \"here's\", \"hers\", \"herself\", \"him\", \"himself\", \"his\", \"how\", \"how's\", \"i\", \"i'd\", \"i'll\", \"i'm\", \"i've\", \"if\", \"in\", \"into\", \"is\", \"it\", \"it's\", \"its\", \"itself\", \"let's\", \"me\", \"more\", \"most\", \"my\", \"myself\", \"nor\", \"of\", \"on\", \"once\", \"only\", \"or\", \"other\", \"ought\", \"our\", \"ours\", \"ourselves\", \"out\", \"over\", \"own\", \"same\", \"she\", \"she'd\", \"she'll\", \"she's\", \"should\", \"so\", \"some\", \"such\", \"than\", \"that\", \"that's\", \"the\", \"their\", \"theirs\", \"them\", \"themselves\", \"then\", \"there\", \"there's\", \"these\", \"they\", \"they'd\", \"they'll\", \"they're\", \"they've\", \"this\", \"those\", \"through\", \"to\", \"too\", \"under\", \"until\", \"up\", \"very\", \"was\", \"we\", \"we'd\", \"we'll\", \"we're\", \"we've\", \"were\", \"what\", \"what's\", \"when\", \"when's\", \"where\", \"where's\", \"which\", \"while\", \"who\", \"who's\", \"whom\", \"why\", \"why's\", \"with\", \"would\", \"you\", \"you'd\", \"you'll\", \"you're\", \"you've\", \"your\", \"yours\", \"yourself\", \"yourselves\" ]\n",
        "print(len(stopwords))\n"
      ],
      "execution_count": 80,
      "outputs": [
        {
          "output_type": "stream",
          "text": [
            "153\n"
          ],
          "name": "stdout"
        }
      ]
    },
    {
      "cell_type": "code",
      "metadata": {
        "id": "eutB2xMiZD0e",
        "colab_type": "code",
        "colab": {
          "base_uri": "https://localhost:8080/",
          "height": 89
        },
        "outputId": "cd9a51f9-b0f7-4680-a255-049651874fbb"
      },
      "source": [
        "with open(\"/tmp/bbc-text.csv\", 'r') as csvfile:\n",
        "    reader = csv.reader(csvfile,delimiter=',')\n",
        "    next(reader)\n",
        "\n",
        "    for row in reader:\n",
        "      labels.append(row[0])\n",
        "      sentence=row[1]\n",
        "      for word in stopwords:\n",
        "        token=''+word+''\n",
        "        sentence=sentence.replace(token,'')\n",
        "        sentence=sentence.replace(' ', ' ')\n",
        "      sentences.append(sentence)\n",
        "\n",
        "    \n",
        "print(len(labels))\n",
        "print(len(sentences))\n",
        "print(sentences[0])\n"
      ],
      "execution_count": 81,
      "outputs": [
        {
          "output_type": "stream",
          "text": [
            "2225\n",
            "2225\n",
            "tv future n t hnds  vers wth ho ttre systems  plsm hgh-defnt tvs  nd dgtl vdeo recders movng n t lvng room  t wy people wtch tv wll  rdclly dfferent n fve yers  t.  tht s ccdng  n expert pnel whch gtred t t nnul csur electrcs s n ls vegs  dscuss  tse new technologes wll mpct e   fvte psts. wth t us ledng t trend  progrms nd otr ctent wll  delvered  vers v ho netwks   cble  stellte  telecoms compnes  nd brodbnd servce provders  frt rooms nd ptble devces.  e  t  tlked-b technologes  ces hs en dgtl nd persl vdeo recders (dvr nd pvr). tse set-p boxes  lke t us s tvo nd t uk s sky+ system  llow people  recd  ste  ply  puse nd wrd wnd tv progrms wn ty wnt.  essentlly  t technology llows  much  perslsed tv. ty re l ng bult-n  hgh-defnt tv sets  whch re bg busness n jpn nd t us   slor  tke f n europe cuse  t lck  hgh-defnt progrmmng. not ly cn people wrd wnd  dverts  ty cn l get b bdng  netwk nd chnnel scdules  puttng getr tr  -l-crte entertnnt.   us netwks nd cble nd stellte compnes re wred b wht t ns  tm n terms  dvertsng revenues s ll s  brnd dentty  nd ver loylty  chnnels. lthough t us leds n t technology t t mt  t s l  ccern tht s ng rsed n europe  prtculrly wth t grg tke  servces lke sky+.  wht hppens re dy   wll see n nne mths   yers  t n t uk   dm hu  t bbc brodcst s futurologst ld t bbc news bste.  t lkes  t bbc  tre re no ssues  lost dvertsng revenue yet. t s   pressng ssue t t mt  comrcl uk brodcsters   brnd loylty s mptnt  ee.   wll  tlkng  b ctent brnds rtr thn netwk brnds   sd tm hnl   brnd communcts frm strcom dvest.  t relty s tht wth brodbnd cnects  nybody cn  t producer  ctent.   dded:  t chllenge now s tht t s hrd  promote  progrm wth  much choce.   wht t ns  sd stcey joln  se vce presdent  tv gude tv gro  s tht t wy people fnd t ctent ty wnt  wtch hs   smplfed  tv vers. t ns tht netwks  n us terms   chnnels  tke  lef   google s book nd  t serch engne  t future  nsted  t scduler  lp people fnd wht ty wnt  wtch. t knd  chnnel model mght wk  t nger pod genert whch s used  tkng ctrol  tr gdgets nd wht ty ply  tm.  t mght not sut ee  t pnel recognsed. older generts re  comtble wth fmlr scdules nd chnnel brnds cuse ty know wht ty re gettng. ty perhps  not wnt  much  t choce put n tr hnds  mr hnl suggested.   t otr end   hve t kds just   dpers  re pushng ts lredy - ethng s possble nd vlble  tm   sd mr hnl.  ultmtely  t csur wll tell t mrket ty wnt.    t 50 000 new gdgets nd technologes ng scsed t ces  mny  tm re b enhncng t tv-wtchng experence. hgh-defnt tv sets re ewre nd mny new models  lcd (lqud crystl dsply) tvs hve en luncd wth dvr cpblty bult n tm  nsted  ng externl boxes. e  exmple luncd t t s s humx s 26-nch lcd tv wth n 80-h tvo dvr nd dvd recder. e  t us s bggest stellte tv compnes  drecttv  hs even luncd ts  brnded dvr t t s wth 100-hs  recdng cpblty  nstnt reply  nd  serch funct. t set cn puse nd rewnd tv    90 hs. nd mcrost chef bll gtes nnounced n  pre-s keynote speech  prtnershp wth tvo  clled tvogo  whch ns people cn ply recded progrms  wnws pcs nd moble devces. ll tse reflect t ncresng trend  freeng  multd  tht people cn wtch wht ty wnt  wn ty wnt.\n"
          ],
          "name": "stdout"
        }
      ]
    },
    {
      "cell_type": "code",
      "metadata": {
        "id": "XfdaWh06ZGe3",
        "colab_type": "code",
        "colab": {
          "base_uri": "https://localhost:8080/",
          "height": 104
        },
        "outputId": "08e120de-9c1e-491c-97e1-e754d5ef9dd6"
      },
      "source": [
        "train_size = 1780\n",
        "\n",
        "train_sentences = sentences[0:train_size]\n",
        "train_labels =labels[0:train_size]\n",
        "\n",
        "validation_sentences = sentences[train_size:]\n",
        "validation_labels = labels[train_size:]\n",
        "\n",
        "print(train_size)\n",
        "print(len(train_sentences))\n",
        "print(len(train_labels))\n",
        "print(len(validation_sentences))\n",
        "print(len(validation_labels))\n"
      ],
      "execution_count": 82,
      "outputs": [
        {
          "output_type": "stream",
          "text": [
            "1780\n",
            "1780\n",
            "1780\n",
            "445\n",
            "445\n"
          ],
          "name": "stdout"
        }
      ]
    },
    {
      "cell_type": "code",
      "metadata": {
        "id": "ULzA8xhwZI22",
        "colab_type": "code",
        "colab": {
          "base_uri": "https://localhost:8080/",
          "height": 121
        },
        "outputId": "d39a94ba-52cb-44cd-d86e-27c86b76a12e"
      },
      "source": [
        "tokenizer = Tokenizer(num_words=vocab_size,oov_token=oov_tok)\n",
        "tokenizer.fit_on_texts(train_sentences)\n",
        "word_index = tokenizer.word_index\n",
        "\n",
        "train_sequences = tokenizer.texts_to_sequences(train_sentences)\n",
        "train_padded = pad_sequences(train_sequences,maxlen=max_length,padding=padding_type,truncating=trunc_type)\n",
        "\n",
        "\n",
        "print(len(train_sequences[0]))\n",
        "print(len(train_padded[0]))\n",
        "\n",
        "print(len(train_sequences[1]))\n",
        "print(len(train_padded[1]))\n",
        "\n",
        "print(len(train_sequences[10]))\n",
        "print(len(train_padded[10]))\n",
        "\n"
      ],
      "execution_count": 83,
      "outputs": [
        {
          "output_type": "stream",
          "text": [
            "647\n",
            "120\n",
            "257\n",
            "120\n",
            "268\n",
            "120\n"
          ],
          "name": "stdout"
        }
      ]
    },
    {
      "cell_type": "code",
      "metadata": {
        "id": "c8PeFWzPZLW_",
        "colab_type": "code",
        "colab": {
          "base_uri": "https://localhost:8080/",
          "height": 52
        },
        "outputId": "0f9a7fdc-614e-4c0b-c157-ae4766198a06"
      },
      "source": [
        "validation_sequences = tokenizer.texts_to_sequences(validation_sentences)\n",
        "validation_padded =pad_sequences(validation_sequences,maxlen=max_length)\n",
        "\n",
        "print(len(validation_sequences))\n",
        "print(validation_padded.shape)\n",
        "\n"
      ],
      "execution_count": 84,
      "outputs": [
        {
          "output_type": "stream",
          "text": [
            "445\n",
            "(445, 120)\n"
          ],
          "name": "stdout"
        }
      ]
    },
    {
      "cell_type": "code",
      "metadata": {
        "id": "XkWiQ_FKZNp2",
        "colab_type": "code",
        "colab": {
          "base_uri": "https://localhost:8080/",
          "height": 155
        },
        "outputId": "4a08d4f1-c8b6-48c3-cf32-9e0a06f24111"
      },
      "source": [
        "import numpy as np\n",
        "\n",
        "label_tokenizer = Tokenizer()\n",
        "label_tokenizer.fit_on_texts(labels)\n",
        "\n",
        "training_label_seq = np.array(label_tokenizer.texts_to_sequences(train_labels))\n",
        "validation_label_seq = np.array(label_tokenizer.texts_to_sequences(validation_labels))\n",
        "\n",
        "print(training_label_seq[0])\n",
        "print(training_label_seq[1])\n",
        "print(training_label_seq[2])\n",
        "print(np.shape(training_label_seq))\n",
        "\n",
        "print(validation_label_seq[0])\n",
        "print(validation_label_seq[1])\n",
        "print(validation_label_seq[2])\n",
        "print(np.shape(validation_label_seq))\n",
        "\n"
      ],
      "execution_count": 85,
      "outputs": [
        {
          "output_type": "stream",
          "text": [
            "[4]\n",
            "[2]\n",
            "[1]\n",
            "(1780, 1)\n",
            "[5]\n",
            "[4]\n",
            "[3]\n",
            "(445, 1)\n"
          ],
          "name": "stdout"
        }
      ]
    },
    {
      "cell_type": "code",
      "metadata": {
        "id": "HZ5um4MWZP-W",
        "colab_type": "code",
        "colab": {
          "base_uri": "https://localhost:8080/",
          "height": 294
        },
        "outputId": "fbad12f7-c255-476a-aaa5-dacd798789d1"
      },
      "source": [
        "model = tf.keras.Sequential([\n",
        "  tf.keras.layers.Embedding(vocab_size,embedding_dim,input_length=max_length),\n",
        "  tf.keras.layers.GlobalAveragePooling1D(),\n",
        "  tf.keras.layers.Dense(24,activation='relu'),\n",
        "  tf.keras.layers.Dense(6,activation='sigmoid')\n",
        "])\n",
        "model.compile(loss='sparse_categorical_crossentropy',optimizer='adam',metrics=['accuracy'])\n",
        "model.summary()\n",
        "\n"
      ],
      "execution_count": 86,
      "outputs": [
        {
          "output_type": "stream",
          "text": [
            "Model: \"sequential_6\"\n",
            "_________________________________________________________________\n",
            "Layer (type)                 Output Shape              Param #   \n",
            "=================================================================\n",
            "embedding_6 (Embedding)      (None, 120, 16)           16000     \n",
            "_________________________________________________________________\n",
            "global_average_pooling1d_6 ( (None, 16)                0         \n",
            "_________________________________________________________________\n",
            "dense_12 (Dense)             (None, 24)                408       \n",
            "_________________________________________________________________\n",
            "dense_13 (Dense)             (None, 6)                 150       \n",
            "=================================================================\n",
            "Total params: 16,558\n",
            "Trainable params: 16,558\n",
            "Non-trainable params: 0\n",
            "_________________________________________________________________\n"
          ],
          "name": "stdout"
        }
      ]
    },
    {
      "cell_type": "code",
      "metadata": {
        "id": "XsfdxySKZSXu",
        "colab_type": "code",
        "colab": {
          "base_uri": "https://localhost:8080/",
          "height": 1000
        },
        "outputId": "802bf388-e764-45fa-8ce5-cfaba2979bea"
      },
      "source": [
        "num_epochs = 30\n",
        "history = model.fit(train_padded,training_label_seq,epochs=num_epochs,validation_data=(validation_padded,validation_label_seq),verbose=2,)"
      ],
      "execution_count": 88,
      "outputs": [
        {
          "output_type": "stream",
          "text": [
            "Train on 1780 samples, validate on 445 samples\n",
            "Epoch 1/30\n",
            "1780/1780 - 2s - loss: 1.7662 - acc: 0.2197 - val_loss: 1.7332 - val_acc: 0.2382\n",
            "Epoch 2/30\n",
            "1780/1780 - 0s - loss: 1.6905 - acc: 0.2270 - val_loss: 1.6474 - val_acc: 0.2382\n",
            "Epoch 3/30\n",
            "1780/1780 - 0s - loss: 1.6169 - acc: 0.2270 - val_loss: 1.5973 - val_acc: 0.2382\n",
            "Epoch 4/30\n",
            "1780/1780 - 0s - loss: 1.5771 - acc: 0.2270 - val_loss: 1.5673 - val_acc: 0.2382\n",
            "Epoch 5/30\n",
            "1780/1780 - 0s - loss: 1.5372 - acc: 0.2292 - val_loss: 1.5271 - val_acc: 0.2427\n",
            "Epoch 6/30\n",
            "1780/1780 - 0s - loss: 1.4716 - acc: 0.2854 - val_loss: 1.4554 - val_acc: 0.2989\n",
            "Epoch 7/30\n",
            "1780/1780 - 0s - loss: 1.3601 - acc: 0.4809 - val_loss: 1.3425 - val_acc: 0.5663\n",
            "Epoch 8/30\n",
            "1780/1780 - 0s - loss: 1.1982 - acc: 0.7742 - val_loss: 1.1901 - val_acc: 0.7236\n",
            "Epoch 9/30\n",
            "1780/1780 - 0s - loss: 1.0044 - acc: 0.8472 - val_loss: 1.0290 - val_acc: 0.7416\n",
            "Epoch 10/30\n",
            "1780/1780 - 0s - loss: 0.8162 - acc: 0.8725 - val_loss: 0.9061 - val_acc: 0.7640\n",
            "Epoch 11/30\n",
            "1780/1780 - 0s - loss: 0.6636 - acc: 0.9129 - val_loss: 0.7906 - val_acc: 0.7978\n",
            "Epoch 12/30\n",
            "1780/1780 - 0s - loss: 0.5474 - acc: 0.9225 - val_loss: 0.7101 - val_acc: 0.8494\n",
            "Epoch 13/30\n",
            "1780/1780 - 0s - loss: 0.4632 - acc: 0.9315 - val_loss: 0.6459 - val_acc: 0.8427\n",
            "Epoch 14/30\n",
            "1780/1780 - 0s - loss: 0.4003 - acc: 0.9399 - val_loss: 0.5989 - val_acc: 0.8360\n",
            "Epoch 15/30\n",
            "1780/1780 - 0s - loss: 0.3498 - acc: 0.9444 - val_loss: 0.5589 - val_acc: 0.8674\n",
            "Epoch 16/30\n",
            "1780/1780 - 0s - loss: 0.3091 - acc: 0.9511 - val_loss: 0.5374 - val_acc: 0.8517\n",
            "Epoch 17/30\n",
            "1780/1780 - 0s - loss: 0.2769 - acc: 0.9579 - val_loss: 0.5027 - val_acc: 0.8719\n",
            "Epoch 18/30\n",
            "1780/1780 - 0s - loss: 0.2491 - acc: 0.9607 - val_loss: 0.4809 - val_acc: 0.8674\n",
            "Epoch 19/30\n",
            "1780/1780 - 0s - loss: 0.2263 - acc: 0.9663 - val_loss: 0.4639 - val_acc: 0.8697\n",
            "Epoch 20/30\n",
            "1780/1780 - 0s - loss: 0.2054 - acc: 0.9646 - val_loss: 0.4462 - val_acc: 0.8742\n",
            "Epoch 21/30\n",
            "1780/1780 - 0s - loss: 0.1865 - acc: 0.9702 - val_loss: 0.4351 - val_acc: 0.8764\n",
            "Epoch 22/30\n",
            "1780/1780 - 0s - loss: 0.1722 - acc: 0.9685 - val_loss: 0.4203 - val_acc: 0.8742\n",
            "Epoch 23/30\n",
            "1780/1780 - 0s - loss: 0.1581 - acc: 0.9730 - val_loss: 0.4075 - val_acc: 0.8742\n",
            "Epoch 24/30\n",
            "1780/1780 - 0s - loss: 0.1449 - acc: 0.9747 - val_loss: 0.4022 - val_acc: 0.8809\n",
            "Epoch 25/30\n",
            "1780/1780 - 0s - loss: 0.1343 - acc: 0.9820 - val_loss: 0.3904 - val_acc: 0.8742\n",
            "Epoch 26/30\n",
            "1780/1780 - 0s - loss: 0.1237 - acc: 0.9815 - val_loss: 0.3824 - val_acc: 0.8831\n",
            "Epoch 27/30\n",
            "1780/1780 - 0s - loss: 0.1152 - acc: 0.9860 - val_loss: 0.3781 - val_acc: 0.8831\n",
            "Epoch 28/30\n",
            "1780/1780 - 0s - loss: 0.1074 - acc: 0.9865 - val_loss: 0.3715 - val_acc: 0.8809\n",
            "Epoch 29/30\n",
            "1780/1780 - 0s - loss: 0.0987 - acc: 0.9888 - val_loss: 0.3663 - val_acc: 0.8787\n",
            "Epoch 30/30\n",
            "1780/1780 - 0s - loss: 0.0913 - acc: 0.9904 - val_loss: 0.3594 - val_acc: 0.8831\n"
          ],
          "name": "stdout"
        }
      ]
    },
    {
      "cell_type": "code",
      "metadata": {
        "id": "dQ0BX2apXS9u",
        "colab_type": "code",
        "colab": {
          "base_uri": "https://localhost:8080/",
          "height": 541
        },
        "outputId": "1b893291-e8b5-4ced-b4f0-c990c359a8a3"
      },
      "source": [
        "import matplotlib.pyplot as plt\n",
        "\n",
        "\n",
        "def plot_graphs(history, string):\n",
        "  plt.plot(history.history[string])\n",
        "  plt.plot(history.history['val_'+string])\n",
        "  plt.xlabel(\"Epochs\")\n",
        "  plt.ylabel(string)\n",
        "  plt.legend([string, 'val_'+string])\n",
        "  plt.show()\n",
        "  \n",
        "plot_graphs(history, \"acc\")\n",
        "plot_graphs(history, \"loss\")"
      ],
      "execution_count": 89,
      "outputs": [
        {
          "output_type": "display_data",
          "data": {
            "image/png": "[encoded data removed]",
            "text/plain": [
              "<Figure size 432x288 with 1 Axes>"
            ]
          },
          "metadata": {
            "tags": []
          }
        },
        {
          "output_type": "display_data",
          "data": {
            "image/png": "[encoded data removed]",
            "text/plain": [
              "<Figure size 432x288 with 1 Axes>"
            ]
          },
          "metadata": {
            "tags": []
          }
        }
      ]
    },
    {
      "cell_type": "code",
      "metadata": {
        "id": "w7Xc-uWxXhML",
        "colab_type": "code",
        "colab": {}
      },
      "source": [
        "reverse_word_index = dict([(value, key) for (key, value) in word_index.items()])\n",
        "\n",
        "def decode_sentence(text):\n",
        "    return ' '.join([reverse_word_index.get(i, '?') for i in text])\n"
      ],
      "execution_count": 0,
      "outputs": []
    },
    {
      "cell_type": "code",
      "metadata": {
        "id": "OhnFA_TDXrih",
        "colab_type": "code",
        "colab": {
          "base_uri": "https://localhost:8080/",
          "height": 34
        },
        "outputId": "ee5e6d41-d9f7-4a5f-cf9e-045640d31bef"
      },
      "source": [
        "e = model.layers[0]\n",
        "weights = e.get_weights()[0]\n",
        "print(weights.shape) # shape: (vocab_size, embedding_dim)\n",
        "\n"
      ],
      "execution_count": 91,
      "outputs": [
        {
          "output_type": "stream",
          "text": [
            "(1000, 16)\n"
          ],
          "name": "stdout"
        }
      ]
    },
    {
      "cell_type": "code",
      "metadata": {
        "id": "_POzcWWAXudL",
        "colab_type": "code",
        "colab": {}
      },
      "source": [
        "import io\n",
        "\n",
        "out_v = io.open('vecs.tsv', 'w', encoding='utf-8')\n",
        "out_m = io.open('meta.tsv', 'w', encoding='utf-8')\n",
        "for word_num in range(1, vocab_size):\n",
        "  word = reverse_word_index[word_num]\n",
        "  embeddings = weights[word_num]\n",
        "  out_m.write(word + \"\\n\")\n",
        "  out_v.write('\\t'.join([str(x) for x in embeddings]) + \"\\n\")\n",
        "out_v.close()\n",
        "out_m.close()"
      ],
      "execution_count": 0,
      "outputs": []
    },
    {
      "cell_type": "code",
      "metadata": {
        "id": "VmqpQMZ_XyOa",
        "colab_type": "code",
        "colab": {}
      },
      "source": [
        "try:\n",
        "  from google.colab import files\n",
        "except ImportError:\n",
        "  pass\n",
        "else:\n",
        "  files.download('vecs.tsv')\n",
        "  files.download('meta.tsv')"
      ],
      "execution_count": 0,
      "outputs": []
    }
  ]
}